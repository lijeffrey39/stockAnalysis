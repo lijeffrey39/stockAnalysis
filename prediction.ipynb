{
 "cells": [
  {
   "cell_type": "code",
   "execution_count": 3,
   "metadata": {
    "tags": []
   },
   "outputs": [
    {
     "output_type": "stream",
     "name": "stdout",
     "text": "done loading\n"
    }
   ],
   "source": [
    "import numpy as np\n",
    "user_matrice = np.load('user_matrice_filtered.npy') # 104 days x 57000 users x 3 weightings\n",
    "user_stock_matrice = np.load('user_stock_matrice_filtered.npy') # 104 days x 78 stocks x 57000 users x 3 weightings\n",
    "user_predictions = np.load('user_predictions.npy') # 104 days x 57000 users x 78 stocks\n",
    "close_open_matrice = np.load('close_open_matrice.npy') # 104 x 78\n",
    "print('done loading')\n"
   ]
  },
  {
   "cell_type": "code",
   "execution_count": 17,
   "metadata": {
    "tags": []
   },
   "outputs": [],
   "source": [
    "def findTotalUserWeightings(start_date, end_date, user_matrice, user_stock_matrice, weightings):\n",
    "    # Match dimensions of user_stock matrics\n",
    "    user_weighted = np.dot(user_matrice, weightings) # 104 x 57000\n",
    "    repeated_user_weights = np.repeat(user_weighted[:,None], 78, axis=1) # 104 x 78 x 57000\n",
    "\n",
    "    # Calculate user stock weights\n",
    "    user_stock_weighted = np.dot(user_stock_matrice, weightings) # 104 x 78 x 57000\n",
    "\n",
    "    total_user_weight = repeated_user_weights + user_stock_weighted # 104 x 78 x 57000\n",
    "\n",
    "    return total_user_weight\n",
    "    # print(total_user_weight.shape)"
   ]
  },
  {
   "cell_type": "code",
   "execution_count": 18,
   "metadata": {},
   "outputs": [],
   "source": [
    "import datetime\n",
    "start_date = datetime.datetime(2020, 1, 9)\n",
    "end_date = datetime.datetime(2020, 6, 9)\n",
    "weightings = np.array([1, 1, 1])\n",
    "\n",
    "total_user_weight = findTotalUserWeightings(start_date, end_date, user_matrice, user_stock_matrice, weightings)"
   ]
  },
  {
   "cell_type": "code",
   "execution_count": 36,
   "metadata": {},
   "outputs": [],
   "source": [
    "# normalize user predictions\n",
    "count_total = np.count_nonzero(user_predictions, axis=1) # counts per day per stock\n",
    "standardize_prediction = user_predictions / count_total[:,None]\n",
    "standardize_prediction[np.isnan(standardize_prediction)] = 0\n",
    "\n",
    "# Multiply user weights with user predictions\n",
    "diagonal_weights = np.einsum('ijk,ikj->ij', total_user_weight, standardize_prediction) # 104 x 78\n",
    "diagonal_weights[close_open_matrice<=0] = 0 # only keep top 20 stocks\n"
   ]
  },
  {
   "cell_type": "code",
   "execution_count": 37,
   "metadata": {
    "tags": []
   },
   "outputs": [],
   "source": [
    "top_n_stocks = 3\n",
    "sorted_index = np.argsort(-abs(diagonal_weights),axis=1)\n",
    "range_i = np.arange(diagonal_weights.shape[0])\n",
    "\n",
    "# Find top stocks and corresponding close open\n",
    "top_weights = diagonal_weights[range_i[:,None], sorted_index][:,:top_n_stocks]\n",
    "top_close_open = close_open_matrice[range_i[:,None], sorted_index][:,:top_n_stocks]"
   ]
  },
  {
   "cell_type": "code",
   "execution_count": 41,
   "metadata": {
    "tags": []
   },
   "outputs": [
    {
     "output_type": "stream",
     "name": "stdout",
     "text": "-0.602101432326228\n4.380786060113542\n1.9172460458539085\n3.7550957560161806\n5.662472296180122\n1.6928676859672183\n4.3052710919523225\n4.156554001952863\n9.277939541693677\n0.5414416961009231\n7.265253319487492\n0.925261953688536\n1.0651805593707948\n4.159361051770108\n5.119667671703297\n0.6594534316049039\n1.8517611403185859\n2.7299755679777977\n0.8304156934314948\n4.327292757054805\n5.97046400706689\n0.9510590879944205\n1.1197002033692591\n6.5392656547055665\n0.7502000649257424\n6.049755952863109\n5.6617758742093\n1.1952650582699562\n9.02306809388907\n2.638211364196104\n3.8756410045919196\n2.66008769172044\n85.68518155415225\n69.69916271217141\n7.691674874816974\n5.382893192363911\n3.135252285603495\n5.856046527892923\n2.7644980253585496\n19.7885731631795\n3.1343050838421034\n18.366769947645178\n18.20777688920161\n6.307874957523297\n14.89361702127661\n9.327521800153765\n12.093841588380217\n9.800128433893054\n4.561850152035184\n12.194140435822897\n10.199402952524634\n10.295737904215212\n2.405689538165685\n8.20094186608333\n10.25938288883737\n1.189889963158043\n11.211582824492968\n5.424891011439178\n3.712415503936486\n11.07709738927118\n19.958527704803252\n0.6631429129620788\n0.9956928264912434\n3.0663495179675353\n1.9788332182576913\n5.476390197864522\n8.610016470652981\n12.084108624803338\n11.67787128638889\n13.833983875213791\n3.0240329164064175\n7.366633314859171\n7.456419873050872\n3.5584555412308583\n18.309780762316528\n3.8747338078531017\n3.437727770609718\n2.122792556096625\n4.57517337853359\n1.3012252520786665\n1.7114446541596753\n1.5892690550551087\n3.128019939228665\n1.0504561908216896\n9.268853487623042\n2.1493820566750865\n7.235003777387265\n4.077357229511125\n1.5712199833174725\n0.6190835293532851\n2.667225291154243\n6.534220144784489\n34.45486012657027\n11.566380686215561\n5.1438000900533165\n2.154806286383396\n3.3669488547761715\n4.594435406926287\n7.7253243084931285\n3.5940758035895435\n8.085754367494038\n4.95239969516105\n3.8027940113978946\n23.856268289358642\n"
    }
   ],
   "source": [
    "# Find top n stocks to look at\n",
    "top_n_stocks = 3\n",
    "sorted_index = np.argsort(-abs(diagonal_weights),axis=1)\n",
    "range_i = np.arange(diagonal_weights.shape[0])\n",
    "\n",
    "# Find top stocks and corresponding close open\n",
    "top_weights = diagonal_weights[range_i[:,None], sorted_index][:,:top_n_stocks]\n",
    "top_close_open = close_open_matrice[range_i[:,None], sorted_index][:,:top_n_stocks]\n",
    "total_weights = np.sum(abs(top_weights), axis=1)[:,None]\n",
    "relative_weight = top_weights / total_weights\n",
    "relative_weight[np.isnan(relative_weight)] = 0\n",
    "\n",
    "\n",
    "for x in weighted_returns:\n",
    "    print(relative_weight)\n",
    "\n",
    "weighted_returns_perstock = np.multiply(relative_weight, top_close_open)\n",
    "weighted_returns = np.sum(weighted_returns_perstock, axis=1)\n",
    "\n"
   ]
  },
  {
   "cell_type": "code",
   "execution_count": null,
   "metadata": {},
   "outputs": [],
   "source": []
  }
 ],
 "metadata": {
  "language_info": {
   "codemirror_mode": {
    "name": "ipython",
    "version": 3
   },
   "file_extension": ".py",
   "mimetype": "text/x-python",
   "name": "python",
   "nbconvert_exporter": "python",
   "pygments_lexer": "ipython3",
   "version": "3.7.6-final"
  },
  "orig_nbformat": 2,
  "kernelspec": {
   "name": "python37664bit8b405cec83804fbdaf717463c93f7e3a",
   "display_name": "Python 3.7.6 64-bit"
  }
 },
 "nbformat": 4,
 "nbformat_minor": 2
}